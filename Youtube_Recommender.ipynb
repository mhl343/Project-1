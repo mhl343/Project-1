{
  "nbformat": 4,
  "nbformat_minor": 0,
  "metadata": {
    "colab": {
      "provenance": [],
      "authorship_tag": "ABX9TyNy4GUo0w6Y3M1z+sAB+HAa",
      "include_colab_link": true
    },
    "kernelspec": {
      "name": "python3",
      "display_name": "Python 3"
    },
    "language_info": {
      "name": "python"
    },
    "widgets": {
      "application/vnd.jupyter.widget-state+json": {
        "b175f184f68a4de6b1d381958fdad6ce": {
          "model_module": "@jupyter-widgets/controls",
          "model_name": "HBoxModel",
          "model_module_version": "1.5.0",
          "state": {
            "_dom_classes": [],
            "_model_module": "@jupyter-widgets/controls",
            "_model_module_version": "1.5.0",
            "_model_name": "HBoxModel",
            "_view_count": null,
            "_view_module": "@jupyter-widgets/controls",
            "_view_module_version": "1.5.0",
            "_view_name": "HBoxView",
            "box_style": "",
            "children": [
              "IPY_MODEL_dc162354266f42efb16cadd42f57f4d9",
              "IPY_MODEL_f2ea76fdf4b547fe911aff26bbe10f80",
              "IPY_MODEL_e521ad91071945528a9785bc006cb317"
            ],
            "layout": "IPY_MODEL_e404024417124b60860b668cb82f56d0"
          }
        },
        "dc162354266f42efb16cadd42f57f4d9": {
          "model_module": "@jupyter-widgets/controls",
          "model_name": "HTMLModel",
          "model_module_version": "1.5.0",
          "state": {
            "_dom_classes": [],
            "_model_module": "@jupyter-widgets/controls",
            "_model_module_version": "1.5.0",
            "_model_name": "HTMLModel",
            "_view_count": null,
            "_view_module": "@jupyter-widgets/controls",
            "_view_module_version": "1.5.0",
            "_view_name": "HTMLView",
            "description": "",
            "description_tooltip": null,
            "layout": "IPY_MODEL_42513619c68e4d67b934e527abeef005",
            "placeholder": "​",
            "style": "IPY_MODEL_832505ac1cd44242af4865da4d1d784c",
            "value": " 17%"
          }
        },
        "f2ea76fdf4b547fe911aff26bbe10f80": {
          "model_module": "@jupyter-widgets/controls",
          "model_name": "FloatProgressModel",
          "model_module_version": "1.5.0",
          "state": {
            "_dom_classes": [],
            "_model_module": "@jupyter-widgets/controls",
            "_model_module_version": "1.5.0",
            "_model_name": "FloatProgressModel",
            "_view_count": null,
            "_view_module": "@jupyter-widgets/controls",
            "_view_module_version": "1.5.0",
            "_view_name": "ProgressView",
            "bar_style": "danger",
            "description": "",
            "description_tooltip": null,
            "layout": "IPY_MODEL_ced5ae6eee154f5baa76dec92b0433dd",
            "max": 100,
            "min": 0,
            "orientation": "horizontal",
            "style": "IPY_MODEL_86cdeca6ec4249afac15d46a773042a8",
            "value": 17
          }
        },
        "e521ad91071945528a9785bc006cb317": {
          "model_module": "@jupyter-widgets/controls",
          "model_name": "HTMLModel",
          "model_module_version": "1.5.0",
          "state": {
            "_dom_classes": [],
            "_model_module": "@jupyter-widgets/controls",
            "_model_module_version": "1.5.0",
            "_model_name": "HTMLModel",
            "_view_count": null,
            "_view_module": "@jupyter-widgets/controls",
            "_view_module_version": "1.5.0",
            "_view_name": "HTMLView",
            "description": "",
            "description_tooltip": null,
            "layout": "IPY_MODEL_99ce40ce252a448c9748395d2eac5f0a",
            "placeholder": "​",
            "style": "IPY_MODEL_520a3d0ab2da417abc504240a39bcddf",
            "value": " 17/100 [01:12&lt;05:40,  4.11s/it]"
          }
        },
        "e404024417124b60860b668cb82f56d0": {
          "model_module": "@jupyter-widgets/base",
          "model_name": "LayoutModel",
          "model_module_version": "1.2.0",
          "state": {
            "_model_module": "@jupyter-widgets/base",
            "_model_module_version": "1.2.0",
            "_model_name": "LayoutModel",
            "_view_count": null,
            "_view_module": "@jupyter-widgets/base",
            "_view_module_version": "1.2.0",
            "_view_name": "LayoutView",
            "align_content": null,
            "align_items": null,
            "align_self": null,
            "border": null,
            "bottom": null,
            "display": null,
            "flex": null,
            "flex_flow": null,
            "grid_area": null,
            "grid_auto_columns": null,
            "grid_auto_flow": null,
            "grid_auto_rows": null,
            "grid_column": null,
            "grid_gap": null,
            "grid_row": null,
            "grid_template_areas": null,
            "grid_template_columns": null,
            "grid_template_rows": null,
            "height": null,
            "justify_content": null,
            "justify_items": null,
            "left": null,
            "margin": null,
            "max_height": null,
            "max_width": null,
            "min_height": null,
            "min_width": null,
            "object_fit": null,
            "object_position": null,
            "order": null,
            "overflow": null,
            "overflow_x": null,
            "overflow_y": null,
            "padding": null,
            "right": null,
            "top": null,
            "visibility": null,
            "width": null
          }
        },
        "42513619c68e4d67b934e527abeef005": {
          "model_module": "@jupyter-widgets/base",
          "model_name": "LayoutModel",
          "model_module_version": "1.2.0",
          "state": {
            "_model_module": "@jupyter-widgets/base",
            "_model_module_version": "1.2.0",
            "_model_name": "LayoutModel",
            "_view_count": null,
            "_view_module": "@jupyter-widgets/base",
            "_view_module_version": "1.2.0",
            "_view_name": "LayoutView",
            "align_content": null,
            "align_items": null,
            "align_self": null,
            "border": null,
            "bottom": null,
            "display": null,
            "flex": null,
            "flex_flow": null,
            "grid_area": null,
            "grid_auto_columns": null,
            "grid_auto_flow": null,
            "grid_auto_rows": null,
            "grid_column": null,
            "grid_gap": null,
            "grid_row": null,
            "grid_template_areas": null,
            "grid_template_columns": null,
            "grid_template_rows": null,
            "height": null,
            "justify_content": null,
            "justify_items": null,
            "left": null,
            "margin": null,
            "max_height": null,
            "max_width": null,
            "min_height": null,
            "min_width": null,
            "object_fit": null,
            "object_position": null,
            "order": null,
            "overflow": null,
            "overflow_x": null,
            "overflow_y": null,
            "padding": null,
            "right": null,
            "top": null,
            "visibility": null,
            "width": null
          }
        },
        "832505ac1cd44242af4865da4d1d784c": {
          "model_module": "@jupyter-widgets/controls",
          "model_name": "DescriptionStyleModel",
          "model_module_version": "1.5.0",
          "state": {
            "_model_module": "@jupyter-widgets/controls",
            "_model_module_version": "1.5.0",
            "_model_name": "DescriptionStyleModel",
            "_view_count": null,
            "_view_module": "@jupyter-widgets/base",
            "_view_module_version": "1.2.0",
            "_view_name": "StyleView",
            "description_width": ""
          }
        },
        "ced5ae6eee154f5baa76dec92b0433dd": {
          "model_module": "@jupyter-widgets/base",
          "model_name": "LayoutModel",
          "model_module_version": "1.2.0",
          "state": {
            "_model_module": "@jupyter-widgets/base",
            "_model_module_version": "1.2.0",
            "_model_name": "LayoutModel",
            "_view_count": null,
            "_view_module": "@jupyter-widgets/base",
            "_view_module_version": "1.2.0",
            "_view_name": "LayoutView",
            "align_content": null,
            "align_items": null,
            "align_self": null,
            "border": null,
            "bottom": null,
            "display": null,
            "flex": null,
            "flex_flow": null,
            "grid_area": null,
            "grid_auto_columns": null,
            "grid_auto_flow": null,
            "grid_auto_rows": null,
            "grid_column": null,
            "grid_gap": null,
            "grid_row": null,
            "grid_template_areas": null,
            "grid_template_columns": null,
            "grid_template_rows": null,
            "height": null,
            "justify_content": null,
            "justify_items": null,
            "left": null,
            "margin": null,
            "max_height": null,
            "max_width": null,
            "min_height": null,
            "min_width": null,
            "object_fit": null,
            "object_position": null,
            "order": null,
            "overflow": null,
            "overflow_x": null,
            "overflow_y": null,
            "padding": null,
            "right": null,
            "top": null,
            "visibility": null,
            "width": null
          }
        },
        "86cdeca6ec4249afac15d46a773042a8": {
          "model_module": "@jupyter-widgets/controls",
          "model_name": "ProgressStyleModel",
          "model_module_version": "1.5.0",
          "state": {
            "_model_module": "@jupyter-widgets/controls",
            "_model_module_version": "1.5.0",
            "_model_name": "ProgressStyleModel",
            "_view_count": null,
            "_view_module": "@jupyter-widgets/base",
            "_view_module_version": "1.2.0",
            "_view_name": "StyleView",
            "bar_color": null,
            "description_width": ""
          }
        },
        "99ce40ce252a448c9748395d2eac5f0a": {
          "model_module": "@jupyter-widgets/base",
          "model_name": "LayoutModel",
          "model_module_version": "1.2.0",
          "state": {
            "_model_module": "@jupyter-widgets/base",
            "_model_module_version": "1.2.0",
            "_model_name": "LayoutModel",
            "_view_count": null,
            "_view_module": "@jupyter-widgets/base",
            "_view_module_version": "1.2.0",
            "_view_name": "LayoutView",
            "align_content": null,
            "align_items": null,
            "align_self": null,
            "border": null,
            "bottom": null,
            "display": null,
            "flex": null,
            "flex_flow": null,
            "grid_area": null,
            "grid_auto_columns": null,
            "grid_auto_flow": null,
            "grid_auto_rows": null,
            "grid_column": null,
            "grid_gap": null,
            "grid_row": null,
            "grid_template_areas": null,
            "grid_template_columns": null,
            "grid_template_rows": null,
            "height": null,
            "justify_content": null,
            "justify_items": null,
            "left": null,
            "margin": null,
            "max_height": null,
            "max_width": null,
            "min_height": null,
            "min_width": null,
            "object_fit": null,
            "object_position": null,
            "order": null,
            "overflow": null,
            "overflow_x": null,
            "overflow_y": null,
            "padding": null,
            "right": null,
            "top": null,
            "visibility": null,
            "width": null
          }
        },
        "520a3d0ab2da417abc504240a39bcddf": {
          "model_module": "@jupyter-widgets/controls",
          "model_name": "DescriptionStyleModel",
          "model_module_version": "1.5.0",
          "state": {
            "_model_module": "@jupyter-widgets/controls",
            "_model_module_version": "1.5.0",
            "_model_name": "DescriptionStyleModel",
            "_view_count": null,
            "_view_module": "@jupyter-widgets/base",
            "_view_module_version": "1.2.0",
            "_view_name": "StyleView",
            "description_width": ""
          }
        }
      }
    }
  },
  "cells": [
    {
      "cell_type": "markdown",
      "metadata": {
        "id": "view-in-github",
        "colab_type": "text"
      },
      "source": [
        "<a href=\"https://colab.research.google.com/github/mhl343/YouTube-Recommender/blob/main/Youtube_Recommender.ipynb\" target=\"_parent\"><img src=\"https://colab.research.google.com/assets/colab-badge.svg\" alt=\"Open In Colab\"/></a>"
      ]
    },
    {
      "cell_type": "code",
      "source": [
        "import os\n",
        "from google.colab import drive\n",
        "drive.mount('/content/drive')"
      ],
      "metadata": {
        "colab": {
          "base_uri": "https://localhost:8080/"
        },
        "id": "IvYfVt8HcHN7",
        "outputId": "48608f85-8ef7-4782-d576-75cfa3b21e21"
      },
      "execution_count": null,
      "outputs": [
        {
          "output_type": "stream",
          "name": "stdout",
          "text": [
            "Mounted at /content/drive\n"
          ]
        }
      ]
    },
    {
      "cell_type": "code",
      "source": [
        "os.chdir('/content/drive/My Drive/youtube recommender')"
      ],
      "metadata": {
        "id": "l0nXY3LhoejK"
      },
      "execution_count": null,
      "outputs": []
    },
    {
      "cell_type": "code",
      "source": [
        "%matplotlib inline\n",
        " \n",
        "import pandas as pd\n",
        "import numpy as np\n",
        "import matplotlib.pyplot as plt\n",
        "import random\n",
        "from tqdm import tqdm_notebook\n",
        "from copy import deepcopy\n",
        " \n",
        "import torch\n",
        "import torch.nn as nn\n",
        "import torch.nn.functional as F\n",
        "from torch.utils.data import DataLoader, Dataset\n",
        "device = torch.device(\"cuda:0\" if torch.cuda.is_available() else \"cpu\")\n",
        " \n",
        "data_path = 'ml-100k/'"
      ],
      "metadata": {
        "id": "yC2F1uTFp8pQ"
      },
      "execution_count": null,
      "outputs": []
    },
    {
      "cell_type": "code",
      "source": [
        "id_val = 1\n",
        "num_users = 943 \n",
        "num_items = 1682 \n",
        "train_dataframe = pd.read_csv(f'{data_path}u{id_val}.base',sep='\\t',header=None)\n",
        "train_dataframe.columns = ['user_id','item_id','rating','ts']\n",
        "train_dataframe['user_id'] = train_dataframe['user_id'] -1 \n",
        "train_dataframe['item_id'] = train_dataframe['item_id'] -1\n",
        "valid_df = pd.read_csv(f'{data_path}u{id_val}.test',sep='\\t',header=None)\n",
        "valid_df.columns = ['user_id','item_id','rating','ts']\n",
        "valid_df['user_id'] = valid_df['user_id'] -1 \n",
        "valid_df['item_id'] = valid_df['item_id'] -1\n",
        "train_dataframe.shape, valid_df.shape"
      ],
      "metadata": {
        "colab": {
          "base_uri": "https://localhost:8080/"
        },
        "id": "DRU-nBMVqEMY",
        "outputId": "c16bb3b0-a13e-4e5a-c094-9f01c46f2fd3"
      },
      "execution_count": null,
      "outputs": [
        {
          "output_type": "execute_result",
          "data": {
            "text/plain": [
              "((80000, 4), (20000, 4))"
            ]
          },
          "metadata": {},
          "execution_count": 4
        }
      ]
    },
    {
      "cell_type": "code",
      "source": [
        "train_usrs = train_dataframe.user_id.unique()\n",
        "vald_usrs = valid_df.user_id.unique()\n",
        "len(train_usrs),len(vald_usrs)\n",
        "train_itms = train_dataframe.item_id.unique()\n",
        "vald_itms = valid_df.item_id.unique()\n",
        "len(train_itms),len(vald_itms)"
      ],
      "metadata": {
        "colab": {
          "base_uri": "https://localhost:8080/"
        },
        "id": "iMLMMM21sh59",
        "outputId": "e7a558e3-38c1-4ccd-8e87-dff1ebece618"
      },
      "execution_count": null,
      "outputs": [
        {
          "output_type": "execute_result",
          "data": {
            "text/plain": [
              "(1650, 1410)"
            ]
          },
          "metadata": {},
          "execution_count": 5
        }
      ]
    },
    {
      "cell_type": "code",
      "source": [
        "class CollabDataset(Dataset):\n",
        "    def __init__(self, df, user_col=0, item_col=1, rating_col=2):\n",
        "        self.df = df\n",
        "        self.user_tensor = torch.tensor(self.df.iloc[:,user_col], dtype=torch.long, device = device)\n",
        "        self.item_tensor = torch.tensor(self.df.iloc[:,item_col], dtype=torch.long, device = device)\n",
        "        self.target_tensor = torch.tensor(self.df.iloc[:,rating_col], dtype=torch.float32, device = device)\n",
        "        \n",
        "    def __getitem__(self, index):\n",
        "        return(self.user_tensor[index], self.item_tensor[index], self.target_tensor[index])\n",
        " \n",
        "    def __len__(self):\n",
        "        return(self.user_tensor.shape[0])\n",
        "batch_size = 2000\n",
        "train_dataset = CollabDataset(train_dataframe)\n",
        "train_dataloader = DataLoader(train_dataset, batch_size=batch_size, shuffle=True, num_workers=4)\n",
        "valid_dataset = CollabDataset(valid_df)\n",
        "valid_dataloader = DataLoader(valid_dataset, batch_size=batch_size, shuffle=True, num_workers=4)\n"
      ],
      "metadata": {
        "colab": {
          "base_uri": "https://localhost:8080/"
        },
        "id": "JJPYcBpdslM1",
        "outputId": "e159ac4e-5661-4546-e5ee-486379e40efc"
      },
      "execution_count": null,
      "outputs": [
        {
          "output_type": "stream",
          "name": "stderr",
          "text": [
            "/usr/local/lib/python3.8/dist-packages/torch/utils/data/dataloader.py:554: UserWarning: This DataLoader will create 4 worker processes in total. Our suggested max number of worker in current system is 2, which is smaller than what this DataLoader is going to create. Please be aware that excessive worker creation might get DataLoader running slow or even freeze, lower the worker number to avoid potential slowness/freeze if necessary.\n",
            "  warnings.warn(_create_warning_msg(\n"
          ]
        }
      ]
    },
    {
      "cell_type": "code",
      "source": [
        "class ConcatNet(nn.Module):\n",
        "    def __init__(self, config):\n",
        "        super(ConcatNet, self).__init__()\n",
        "        #hyperparameters\n",
        "        self.config = config\n",
        "        self.num_users = config['num_users']\n",
        "        self.num_items = config['num_items']\n",
        "        self.emb_size = config['emb_size']\n",
        "        self.emb_droupout = config['emb_droupout']\n",
        "        self.fc_layer_sizes = config['fc_layer_sizes']\n",
        "        self.dropout = config['dropout']\n",
        "        self.out_range = config['out_range']\n",
        " \n",
        "        #embeddings\n",
        "        self.emb_user = nn.Sequential(\n",
        "            nn.Embedding(num_embeddings=self.num_users, embedding_dim=self.emb_size),\n",
        "            nn.Dropout(p=self.emb_droupout))\n",
        "        self.emb_item = nn.Sequential(\n",
        "            nn.Embedding(num_embeddings=self.num_items, embedding_dim=self.emb_size),\n",
        "            nn.Dropout(p=self.emb_droupout))\n",
        " \n",
        "        #fully-connected layers\n",
        "        fc_layers_list = []\n",
        "        for ni,nf,p in zip(self.fc_layer_sizes[:-1], self.fc_layer_sizes[1:], self.dropout):\n",
        "            fc_layers_list.append(nn.Linear(ni, nf))\n",
        "            fc_layers_list.append(nn.ReLU(inplace=True))\n",
        "            fc_layers_list.append(nn.BatchNorm1d(nf))\n",
        "            fc_layers_list.append(nn.Dropout(p=p))\n",
        "        self.fc_layers = nn.Sequential(*fc_layers_list)\n",
        " \n",
        "        #output head\n",
        "        self.head = torch.nn.Linear(in_features=self.fc_layer_sizes[-1], out_features=1)\n",
        " \n",
        "    def forward(self, user_idx, item_idx):\n",
        "        user_emb = self.emb_user(user_idx)\n",
        "        item_emb = self.emb_item(item_idx)\n",
        "        x = torch.cat([user_emb, item_emb], dim=1)\n",
        "        x = self.fc_layers(x)\n",
        "        x = torch.sigmoid(self.head(x))\n",
        "        x = x * (self.out_range[1] - self.out_range[0]) + self.out_range[0]\n",
        "        return(x)\n",
        " \n",
        " \n",
        "config = {\n",
        "    'num_users':943, \n",
        "    'num_items':1682, \n",
        "    'emb_size':50, \n",
        "    'emb_droupout': 0.05, \n",
        "    'fc_layer_sizes': [100, 512, 256], \n",
        "    'dropout': [0.7,0.35], \n",
        "    'out_range': [0.8,5.2]} \n",
        "model = ConcatNet(config)\n",
        "model"
      ],
      "metadata": {
        "colab": {
          "base_uri": "https://localhost:8080/"
        },
        "id": "DS2zwPxBsqvX",
        "outputId": "48a3451d-5ffb-473f-c274-78e291618666"
      },
      "execution_count": null,
      "outputs": [
        {
          "output_type": "execute_result",
          "data": {
            "text/plain": [
              "ConcatNet(\n",
              "  (emb_user): Sequential(\n",
              "    (0): Embedding(943, 50)\n",
              "    (1): Dropout(p=0.05, inplace=False)\n",
              "  )\n",
              "  (emb_item): Sequential(\n",
              "    (0): Embedding(1682, 50)\n",
              "    (1): Dropout(p=0.05, inplace=False)\n",
              "  )\n",
              "  (fc_layers): Sequential(\n",
              "    (0): Linear(in_features=100, out_features=512, bias=True)\n",
              "    (1): ReLU(inplace=True)\n",
              "    (2): BatchNorm1d(512, eps=1e-05, momentum=0.1, affine=True, track_running_stats=True)\n",
              "    (3): Dropout(p=0.7, inplace=False)\n",
              "    (4): Linear(in_features=512, out_features=256, bias=True)\n",
              "    (5): ReLU(inplace=True)\n",
              "    (6): BatchNorm1d(256, eps=1e-05, momentum=0.1, affine=True, track_running_stats=True)\n",
              "    (7): Dropout(p=0.35, inplace=False)\n",
              "  )\n",
              "  (head): Linear(in_features=256, out_features=1, bias=True)\n",
              ")"
            ]
          },
          "metadata": {},
          "execution_count": 7
        }
      ]
    },
    {
      "cell_type": "code",
      "source": [
        "batch_size = 2000 \n",
        "learning_rate = 0.01\n",
        "weight_decay = 0.5\n",
        "num_epoch = 100 \n",
        "reduce_learning_rate = 1 \n",
        "early_stoping = 5 \n",
        " \n",
        " \n",
        "learning_rates = []\n",
        "train_losses=[]\n",
        "valid_losses = []\n",
        "best_loss = np.inf\n",
        "best_weights = None\n",
        " \n",
        "train_dataset = CollabDataset(train_dataframe)\n",
        "train_dataloader = DataLoader(train_dataset, batch_size=batch_size, shuffle=True, num_workers=4)\n",
        "valid_dataset = CollabDataset(valid_df)\n",
        "valid_dataloader = DataLoader(valid_dataset, batch_size=batch_size, shuffle=True, num_workers=4)\n",
        " \n",
        " \n",
        "model = ConcatNet(config)\n",
        "criterion = nn.MSELoss(reduction='sum')\n",
        "optim = torch.optim.Adam(model.parameters(), lr = learning_rate, betas=(0.9,0.999), weight_decay=weight_decay)\n",
        "scheduler = torch.optim.lr_scheduler.ReduceLROnPlateau(optim, mode='min',factor=0.5, threshold=1e-3,\n",
        "                                                       patience=reduce_learning_rate, min_lr=learning_rate/10)\n"
      ],
      "metadata": {
        "id": "dOuGKaJWssdP"
      },
      "execution_count": null,
      "outputs": []
    },
    {
      "cell_type": "code",
      "source": [
        "for e in tqdm_notebook(range(num_epoch)): \n",
        "    model.train()\n",
        "    train_loss = 0\n",
        "    for u,i,r in train_dataloader:\n",
        "        r_pred = model(u,i)\n",
        "        r = r[:,None]\n",
        "        \n",
        "        loss = criterion(r_pred,r)\n",
        "        \n",
        "        optim.zero_grad()\n",
        "        loss.backward()\n",
        "        optim.step()\n",
        "        train_loss+= loss.detach().item()\n",
        "    current_learning_rate = scheduler.optimizer.param_groups[0]['lr']\n",
        "    learning_rates.append(current_learning_rate)\n",
        "    train_loss /= len(train_dataset)\n",
        "    train_losses.append(train_loss)\n",
        "    \n",
        "    model.eval()\n",
        "    valid_loss = 0\n",
        "    for u,i,r in valid_dataloader:\n",
        "        r_pred = model(u,i)\n",
        "        r = r[:,None]\n",
        "        loss = criterion(r_pred,r)\n",
        "        valid_loss+=loss.detach().item()\n",
        "    valid_loss/=len(valid_dataset)\n",
        "    #record\n",
        "    valid_losses.append(valid_loss)\n",
        "    print(f'Epoch {e} Train loss: {train_loss}; Valid loss: {valid_loss}; Learning rate: {current_learning_rate}')\n",
        " \n",
        "    if valid_loss < best_loss:\n",
        "        best_loss = valid_loss\n",
        "        best_weights = deepcopy(model.state_dict())\n",
        "        no_improvements = 0\n",
        "    else:\n",
        "        no_improvements += 1\n",
        " \n",
        "    if no_improvements >= early_stoping:\n",
        "        print(f'early stopping after epoch {e}')\n",
        "        break\n",
        "    \n",
        "    scheduler.step(valid_loss)"
      ],
      "metadata": {
        "colab": {
          "base_uri": "https://localhost:8080/",
          "height": 423,
          "referenced_widgets": [
            "b175f184f68a4de6b1d381958fdad6ce",
            "dc162354266f42efb16cadd42f57f4d9",
            "f2ea76fdf4b547fe911aff26bbe10f80",
            "e521ad91071945528a9785bc006cb317",
            "e404024417124b60860b668cb82f56d0",
            "42513619c68e4d67b934e527abeef005",
            "832505ac1cd44242af4865da4d1d784c",
            "ced5ae6eee154f5baa76dec92b0433dd",
            "86cdeca6ec4249afac15d46a773042a8",
            "99ce40ce252a448c9748395d2eac5f0a",
            "520a3d0ab2da417abc504240a39bcddf"
          ]
        },
        "id": "ECbAFFXxvGVY",
        "outputId": "ef5c8b32-94c5-4fa4-a216-a998e5dc38c9"
      },
      "execution_count": null,
      "outputs": [
        {
          "output_type": "stream",
          "name": "stderr",
          "text": [
            "<ipython-input-14-15e20e55cc50>:1: TqdmDeprecationWarning: This function will be removed in tqdm==5.0.0\n",
            "Please use `tqdm.notebook.tqdm` instead of `tqdm.tqdm_notebook`\n",
            "  for e in tqdm_notebook(range(num_epoch)):\n"
          ]
        },
        {
          "output_type": "display_data",
          "data": {
            "text/plain": [
              "  0%|          | 0/100 [00:00<?, ?it/s]"
            ],
            "application/vnd.jupyter.widget-view+json": {
              "version_major": 2,
              "version_minor": 0,
              "model_id": "b175f184f68a4de6b1d381958fdad6ce"
            }
          },
          "metadata": {}
        },
        {
          "output_type": "stream",
          "name": "stdout",
          "text": [
            "Epoch 0 Train loss: 0.8820048156738282; Valid loss: 0.9146769592285157; Learning rate: 0.01\n",
            "Epoch 1 Train loss: 0.8747865036010742; Valid loss: 0.9151918701171875; Learning rate: 0.01\n",
            "Epoch 2 Train loss: 0.8658007446289062; Valid loss: 0.9065873107910156; Learning rate: 0.01\n",
            "Epoch 3 Train loss: 0.8581654678344727; Valid loss: 0.9117495849609375; Learning rate: 0.01\n",
            "Epoch 4 Train loss: 0.85229453125; Valid loss: 0.9022568176269531; Learning rate: 0.01\n",
            "Epoch 5 Train loss: 0.8405967834472656; Valid loss: 0.8896460266113281; Learning rate: 0.01\n",
            "Epoch 6 Train loss: 0.8324930618286133; Valid loss: 0.8879317504882812; Learning rate: 0.01\n",
            "Epoch 7 Train loss: 0.823550959777832; Valid loss: 0.8781330261230469; Learning rate: 0.01\n",
            "Epoch 8 Train loss: 0.8166790283203125; Valid loss: 0.8848613830566406; Learning rate: 0.01\n",
            "Epoch 9 Train loss: 0.8126909301757812; Valid loss: 0.8755638977050781; Learning rate: 0.01\n",
            "Epoch 10 Train loss: 0.8059527450561523; Valid loss: 0.8751305725097657; Learning rate: 0.01\n",
            "Epoch 11 Train loss: 0.8033264541625976; Valid loss: 0.8812622924804687; Learning rate: 0.01\n",
            "Epoch 12 Train loss: 0.7693273483276367; Valid loss: 0.8615951843261719; Learning rate: 0.005\n",
            "Epoch 13 Train loss: 0.752171157836914; Valid loss: 0.8654872192382812; Learning rate: 0.005\n",
            "Epoch 14 Train loss: 0.7482913253784179; Valid loss: 0.8674541381835937; Learning rate: 0.005\n",
            "Epoch 15 Train loss: 0.7192287918090821; Valid loss: 0.8704130065917969; Learning rate: 0.0025\n",
            "Epoch 16 Train loss: 0.7059676147460937; Valid loss: 0.8732638305664062; Learning rate: 0.0025\n",
            "Epoch 17 Train loss: 0.6781915618896485; Valid loss: 0.8783255859375; Learning rate: 0.00125\n",
            "early stopping after epoch 17\n"
          ]
        }
      ]
    },
    {
      "cell_type": "code",
      "source": [
        "plt.plot(train_losses)\n",
        "plt.plot(valid_losses)"
      ],
      "metadata": {
        "id": "IHi2wcbDvY3M",
        "colab": {
          "base_uri": "https://localhost:8080/",
          "height": 282
        },
        "outputId": "6d71b0e1-21a0-4b46-c62c-f8278ce35859"
      },
      "execution_count": null,
      "outputs": [
        {
          "output_type": "execute_result",
          "data": {
            "text/plain": [
              "[<matplotlib.lines.Line2D at 0x7f23b1f47a60>]"
            ]
          },
          "metadata": {},
          "execution_count": 15
        },
        {
          "output_type": "display_data",
          "data": {
            "text/plain": [
              "<Figure size 432x288 with 1 Axes>"
            ],
            "image/png": "[encoded data removed]"
          },
          "metadata": {
            "needs_background": "light"
          }
        }
      ]
    }
  ]
}